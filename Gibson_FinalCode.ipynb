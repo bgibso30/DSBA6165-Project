{
 "cells": [
  {
   "cell_type": "markdown",
   "metadata": {},
   "source": [
    "# Loading Data"
   ]
  },
  {
   "cell_type": "code",
   "execution_count": 44,
   "metadata": {},
   "outputs": [],
   "source": [
    "# Import necessary libraries\n",
    "import pandas as pd\n",
    "from sklearn.feature_extraction.text import CountVectorizer\n",
    "from nltk.tokenize import word_tokenize\n",
    "from nltk.corpus import stopwords\n",
    "from nltk.stem import PorterStemmer\n",
    "from nltk.stem import WordNetLemmatizer\n",
    "import re"
   ]
  },
  {
   "cell_type": "code",
   "execution_count": 45,
   "metadata": {},
   "outputs": [
    {
     "data": {
      "text/html": [
       "<div>\n",
       "<style scoped>\n",
       "    .dataframe tbody tr th:only-of-type {\n",
       "        vertical-align: middle;\n",
       "    }\n",
       "\n",
       "    .dataframe tbody tr th {\n",
       "        vertical-align: top;\n",
       "    }\n",
       "\n",
       "    .dataframe thead th {\n",
       "        text-align: right;\n",
       "    }\n",
       "</style>\n",
       "<table border=\"1\" class=\"dataframe\">\n",
       "  <thead>\n",
       "    <tr style=\"text-align: right;\">\n",
       "      <th></th>\n",
       "      <th>topic</th>\n",
       "      <th>source</th>\n",
       "      <th>bias</th>\n",
       "      <th>url</th>\n",
       "      <th>title</th>\n",
       "      <th>date</th>\n",
       "      <th>authors</th>\n",
       "      <th>content</th>\n",
       "      <th>content_original</th>\n",
       "      <th>source_url</th>\n",
       "      <th>bias_text</th>\n",
       "      <th>ID</th>\n",
       "    </tr>\n",
       "  </thead>\n",
       "  <tbody>\n",
       "    <tr>\n",
       "      <th>0</th>\n",
       "      <td>terrorism</td>\n",
       "      <td>New York Times - News</td>\n",
       "      <td>0</td>\n",
       "      <td>http://www.nytimes.com/2016/09/20/nyregion/ahm...</td>\n",
       "      <td>Bomb Suspect Changed After Trip Abroad, Friend...</td>\n",
       "      <td>2016-09-20</td>\n",
       "      <td>N. R. Kleinfield</td>\n",
       "      <td>Besides his most recent trip to Quetta , Mr. R...</td>\n",
       "      <td>Besides his most recent trip to Quetta, Mr. Ra...</td>\n",
       "      <td>www.nytimes.com</td>\n",
       "      <td>left</td>\n",
       "      <td>004Gt3gcsotuiYmz</td>\n",
       "    </tr>\n",
       "    <tr>\n",
       "      <th>1</th>\n",
       "      <td>supreme_court</td>\n",
       "      <td>Vox</td>\n",
       "      <td>0</td>\n",
       "      <td>https://www.vox.com/policy-and-politics/2018/9...</td>\n",
       "      <td>Why Susan Collins claims she’s being bribed ov...</td>\n",
       "      <td>2018-09-12</td>\n",
       "      <td>Emily Stewart, Terry Nguyen, Rebecca Jennings,...</td>\n",
       "      <td>Is Maine Republican Sen. Susan Collins being b...</td>\n",
       "      <td>Is Maine Republican Sen. Susan Collins being b...</td>\n",
       "      <td>www.vox.com</td>\n",
       "      <td>left</td>\n",
       "      <td>00eP4XD3VdMmHITE</td>\n",
       "    </tr>\n",
       "    <tr>\n",
       "      <th>2</th>\n",
       "      <td>education</td>\n",
       "      <td>Ezra Klein</td>\n",
       "      <td>0</td>\n",
       "      <td>http://www.npr.org/blogs/thetwo-way/2014/05/06...</td>\n",
       "      <td>Poll: Prestigious Colleges Won't Make You Happ...</td>\n",
       "      <td>2014-05-06</td>\n",
       "      <td>Anya Kamenetz</td>\n",
       "      <td>Poll : Prestigious Colleges Wo n't Make You Ha...</td>\n",
       "      <td>Poll: Prestigious Colleges Won't Make You Happ...</td>\n",
       "      <td>www.npr.org</td>\n",
       "      <td>left</td>\n",
       "      <td>00FTGIZEd6B8zQ4U</td>\n",
       "    </tr>\n",
       "    <tr>\n",
       "      <th>3</th>\n",
       "      <td>us_house</td>\n",
       "      <td>Breitbart News</td>\n",
       "      <td>2</td>\n",
       "      <td>http://www.breitbart.com/big-government/2017/0...</td>\n",
       "      <td>Paul Ryan Reportedly Says No Chance for Border...</td>\n",
       "      <td>2017-09-12</td>\n",
       "      <td>Ian Mason</td>\n",
       "      <td>House Speaker Paul Ryan , at a private dinner ...</td>\n",
       "      <td>House Speaker Paul Ryan, at a private dinner e...</td>\n",
       "      <td>www.breitbart.com</td>\n",
       "      <td>right</td>\n",
       "      <td>00HGGqBRf1kzPRlg</td>\n",
       "    </tr>\n",
       "    <tr>\n",
       "      <th>4</th>\n",
       "      <td>white_house</td>\n",
       "      <td>Guest Writer - Left</td>\n",
       "      <td>0</td>\n",
       "      <td>https://www.cnn.com/2019/07/11/politics/donald...</td>\n",
       "      <td>OPINION: Trump seeking change of legal fortune...</td>\n",
       "      <td>2019-07-11</td>\n",
       "      <td>Analysis Stephen Collinson</td>\n",
       "      <td>( CNN ) President Donald Trump has reason to h...</td>\n",
       "      <td>(CNN) President Donald Trump has reason to hop...</td>\n",
       "      <td>www.cnn.com</td>\n",
       "      <td>left</td>\n",
       "      <td>00IzI5ynahBVtC9l</td>\n",
       "    </tr>\n",
       "  </tbody>\n",
       "</table>\n",
       "</div>"
      ],
      "text/plain": [
       "           topic                 source  bias  \\\n",
       "0      terrorism  New York Times - News     0   \n",
       "1  supreme_court                    Vox     0   \n",
       "2      education             Ezra Klein     0   \n",
       "3       us_house         Breitbart News     2   \n",
       "4    white_house    Guest Writer - Left     0   \n",
       "\n",
       "                                                 url  \\\n",
       "0  http://www.nytimes.com/2016/09/20/nyregion/ahm...   \n",
       "1  https://www.vox.com/policy-and-politics/2018/9...   \n",
       "2  http://www.npr.org/blogs/thetwo-way/2014/05/06...   \n",
       "3  http://www.breitbart.com/big-government/2017/0...   \n",
       "4  https://www.cnn.com/2019/07/11/politics/donald...   \n",
       "\n",
       "                                               title        date  \\\n",
       "0  Bomb Suspect Changed After Trip Abroad, Friend...  2016-09-20   \n",
       "1  Why Susan Collins claims she’s being bribed ov...  2018-09-12   \n",
       "2  Poll: Prestigious Colleges Won't Make You Happ...  2014-05-06   \n",
       "3  Paul Ryan Reportedly Says No Chance for Border...  2017-09-12   \n",
       "4  OPINION: Trump seeking change of legal fortune...  2019-07-11   \n",
       "\n",
       "                                             authors  \\\n",
       "0                                   N. R. Kleinfield   \n",
       "1  Emily Stewart, Terry Nguyen, Rebecca Jennings,...   \n",
       "2                                      Anya Kamenetz   \n",
       "3                                          Ian Mason   \n",
       "4                         Analysis Stephen Collinson   \n",
       "\n",
       "                                             content  \\\n",
       "0  Besides his most recent trip to Quetta , Mr. R...   \n",
       "1  Is Maine Republican Sen. Susan Collins being b...   \n",
       "2  Poll : Prestigious Colleges Wo n't Make You Ha...   \n",
       "3  House Speaker Paul Ryan , at a private dinner ...   \n",
       "4  ( CNN ) President Donald Trump has reason to h...   \n",
       "\n",
       "                                    content_original         source_url  \\\n",
       "0  Besides his most recent trip to Quetta, Mr. Ra...    www.nytimes.com   \n",
       "1  Is Maine Republican Sen. Susan Collins being b...        www.vox.com   \n",
       "2  Poll: Prestigious Colleges Won't Make You Happ...        www.npr.org   \n",
       "3  House Speaker Paul Ryan, at a private dinner e...  www.breitbart.com   \n",
       "4  (CNN) President Donald Trump has reason to hop...        www.cnn.com   \n",
       "\n",
       "  bias_text                ID  \n",
       "0      left  004Gt3gcsotuiYmz  \n",
       "1      left  00eP4XD3VdMmHITE  \n",
       "2      left  00FTGIZEd6B8zQ4U  \n",
       "3     right  00HGGqBRf1kzPRlg  \n",
       "4      left  00IzI5ynahBVtC9l  "
      ]
     },
     "execution_count": 45,
     "metadata": {},
     "output_type": "execute_result"
    }
   ],
   "source": [
    "# Load dataset\n",
    "data = pd.read_csv(r\"C:\\Users\\briaa\\Downloads\\complete_dataset (1).csv\")\n",
    "\n",
    "data.head()"
   ]
  },
  {
   "cell_type": "code",
   "execution_count": 46,
   "metadata": {},
   "outputs": [
    {
     "data": {
      "text/plain": [
       "Index(['topic', 'source', 'bias', 'url', 'title', 'date', 'authors', 'content',\n",
       "       'content_original', 'source_url', 'bias_text', 'ID'],\n",
       "      dtype='object')"
      ]
     },
     "execution_count": 46,
     "metadata": {},
     "output_type": "execute_result"
    }
   ],
   "source": [
    "# Print column names\n",
    "data.columns"
   ]
  },
  {
   "cell_type": "code",
   "execution_count": 47,
   "metadata": {},
   "outputs": [
    {
     "data": {
      "text/plain": [
       "Index(['bias', 'content_original'], dtype='object')"
      ]
     },
     "execution_count": 47,
     "metadata": {},
     "output_type": "execute_result"
    }
   ],
   "source": [
    "# Extract only bias and original content for modeling \n",
    "df = data[['bias', 'content_original']]\n",
    "\n",
    "df.columns"
   ]
  },
  {
   "cell_type": "code",
   "execution_count": 48,
   "metadata": {},
   "outputs": [
    {
     "data": {
      "text/plain": [
       "bias                0\n",
       "content_original    0\n",
       "dtype: int64"
      ]
     },
     "execution_count": 48,
     "metadata": {},
     "output_type": "execute_result"
    }
   ],
   "source": [
    "# Check null count\n",
    "df.isnull().sum()"
   ]
  },
  {
   "cell_type": "markdown",
   "metadata": {},
   "source": [
    "# Data Preparation"
   ]
  },
  {
   "cell_type": "code",
   "execution_count": 49,
   "metadata": {},
   "outputs": [
    {
     "name": "stderr",
     "output_type": "stream",
     "text": [
      "C:\\Users\\briaa\\AppData\\Local\\Temp/ipykernel_4832/490830834.py:7: SettingWithCopyWarning: \n",
      "A value is trying to be set on a copy of a slice from a DataFrame.\n",
      "Try using .loc[row_indexer,col_indexer] = value instead\n",
      "\n",
      "See the caveats in the documentation: https://pandas.pydata.org/pandas-docs/stable/user_guide/indexing.html#returning-a-view-versus-a-copy\n",
      "  df['content_original'] = data['content_original'].apply(lower_text)\n"
     ]
    },
    {
     "data": {
      "text/html": [
       "<div>\n",
       "<style scoped>\n",
       "    .dataframe tbody tr th:only-of-type {\n",
       "        vertical-align: middle;\n",
       "    }\n",
       "\n",
       "    .dataframe tbody tr th {\n",
       "        vertical-align: top;\n",
       "    }\n",
       "\n",
       "    .dataframe thead th {\n",
       "        text-align: right;\n",
       "    }\n",
       "</style>\n",
       "<table border=\"1\" class=\"dataframe\">\n",
       "  <thead>\n",
       "    <tr style=\"text-align: right;\">\n",
       "      <th></th>\n",
       "      <th>bias</th>\n",
       "      <th>content_original</th>\n",
       "    </tr>\n",
       "  </thead>\n",
       "  <tbody>\n",
       "    <tr>\n",
       "      <th>0</th>\n",
       "      <td>0</td>\n",
       "      <td>besides his most recent trip to quetta, mr. ra...</td>\n",
       "    </tr>\n",
       "    <tr>\n",
       "      <th>1</th>\n",
       "      <td>0</td>\n",
       "      <td>is maine republican sen. susan collins being b...</td>\n",
       "    </tr>\n",
       "    <tr>\n",
       "      <th>2</th>\n",
       "      <td>0</td>\n",
       "      <td>poll: prestigious colleges won't make you happ...</td>\n",
       "    </tr>\n",
       "    <tr>\n",
       "      <th>3</th>\n",
       "      <td>2</td>\n",
       "      <td>house speaker paul ryan, at a private dinner e...</td>\n",
       "    </tr>\n",
       "    <tr>\n",
       "      <th>4</th>\n",
       "      <td>0</td>\n",
       "      <td>(cnn) president donald trump has reason to hop...</td>\n",
       "    </tr>\n",
       "  </tbody>\n",
       "</table>\n",
       "</div>"
      ],
      "text/plain": [
       "   bias                                   content_original\n",
       "0     0  besides his most recent trip to quetta, mr. ra...\n",
       "1     0  is maine republican sen. susan collins being b...\n",
       "2     0  poll: prestigious colleges won't make you happ...\n",
       "3     2  house speaker paul ryan, at a private dinner e...\n",
       "4     0  (cnn) president donald trump has reason to hop..."
      ]
     },
     "execution_count": 49,
     "metadata": {},
     "output_type": "execute_result"
    }
   ],
   "source": [
    "# Text lowercase function\n",
    "def lower_text(text):\n",
    "    text = text.lower()  \n",
    "    return text\n",
    "\n",
    "# Apply lower_text\n",
    "df['content_original'] = data['content_original'].apply(lower_text)\n",
    "\n",
    "df.head()"
   ]
  },
  {
   "cell_type": "code",
   "execution_count": 50,
   "metadata": {},
   "outputs": [
    {
     "name": "stderr",
     "output_type": "stream",
     "text": [
      "C:\\Users\\briaa\\AppData\\Local\\Temp/ipykernel_4832/533461868.py:8: SettingWithCopyWarning: \n",
      "A value is trying to be set on a copy of a slice from a DataFrame.\n",
      "Try using .loc[row_indexer,col_indexer] = value instead\n",
      "\n",
      "See the caveats in the documentation: https://pandas.pydata.org/pandas-docs/stable/user_guide/indexing.html#returning-a-view-versus-a-copy\n",
      "  df['content_original'] = df['content_original'].apply(special_char)\n"
     ]
    },
    {
     "data": {
      "text/html": [
       "<div>\n",
       "<style scoped>\n",
       "    .dataframe tbody tr th:only-of-type {\n",
       "        vertical-align: middle;\n",
       "    }\n",
       "\n",
       "    .dataframe tbody tr th {\n",
       "        vertical-align: top;\n",
       "    }\n",
       "\n",
       "    .dataframe thead th {\n",
       "        text-align: right;\n",
       "    }\n",
       "</style>\n",
       "<table border=\"1\" class=\"dataframe\">\n",
       "  <thead>\n",
       "    <tr style=\"text-align: right;\">\n",
       "      <th></th>\n",
       "      <th>bias</th>\n",
       "      <th>content_original</th>\n",
       "    </tr>\n",
       "  </thead>\n",
       "  <tbody>\n",
       "    <tr>\n",
       "      <th>0</th>\n",
       "      <td>0</td>\n",
       "      <td>besides his most recent trip to quetta mr raha...</td>\n",
       "    </tr>\n",
       "    <tr>\n",
       "      <th>1</th>\n",
       "      <td>0</td>\n",
       "      <td>is maine republican sen susan collins being br...</td>\n",
       "    </tr>\n",
       "    <tr>\n",
       "      <th>2</th>\n",
       "      <td>0</td>\n",
       "      <td>poll prestigious colleges wont make you happie...</td>\n",
       "    </tr>\n",
       "    <tr>\n",
       "      <th>3</th>\n",
       "      <td>2</td>\n",
       "      <td>house speaker paul ryan at a private dinner ea...</td>\n",
       "    </tr>\n",
       "    <tr>\n",
       "      <th>4</th>\n",
       "      <td>0</td>\n",
       "      <td>cnn president donald trump has reason to hope ...</td>\n",
       "    </tr>\n",
       "  </tbody>\n",
       "</table>\n",
       "</div>"
      ],
      "text/plain": [
       "   bias                                   content_original\n",
       "0     0  besides his most recent trip to quetta mr raha...\n",
       "1     0  is maine republican sen susan collins being br...\n",
       "2     0  poll prestigious colleges wont make you happie...\n",
       "3     2  house speaker paul ryan at a private dinner ea...\n",
       "4     0  cnn president donald trump has reason to hope ..."
      ]
     },
     "execution_count": 50,
     "metadata": {},
     "output_type": "execute_result"
    }
   ],
   "source": [
    "# Remove special characters function\n",
    "def special_char(text):\n",
    "    pattern = r'[^a-zA-Z0-9\\s]'\n",
    "    cleaned_text = re.sub(pattern, '', text)\n",
    "    return cleaned_text\n",
    "\n",
    "# Apply special_char\n",
    "df['content_original'] = df['content_original'].apply(special_char)\n",
    "\n",
    "df.head()"
   ]
  },
  {
   "cell_type": "code",
   "execution_count": 51,
   "metadata": {},
   "outputs": [
    {
     "data": {
      "text/plain": [
       "False"
      ]
     },
     "execution_count": 51,
     "metadata": {},
     "output_type": "execute_result"
    }
   ],
   "source": [
    "# Define a function to check if special characters are present in a string\n",
    "def has_special_characters(column):\n",
    "    pattern = r'[^a-zA-Z0-9\\s]'\n",
    "    for text in column:\n",
    "        if re.search(pattern, text):\n",
    "            return True\n",
    "    return False\n",
    "\n",
    "# Apply the function \n",
    "has_special_characters(df['content_original'])"
   ]
  },
  {
   "cell_type": "code",
   "execution_count": 52,
   "metadata": {},
   "outputs": [
    {
     "ename": "KeyError",
     "evalue": "'tokens'",
     "output_type": "error",
     "traceback": [
      "\u001b[1;31m---------------------------------------------------------------------------\u001b[0m",
      "\u001b[1;31mKeyError\u001b[0m                                  Traceback (most recent call last)",
      "\u001b[1;32mc:\\Users\\briaa\\anaconda3\\lib\\site-packages\\pandas\\core\\indexes\\base.py\u001b[0m in \u001b[0;36mget_loc\u001b[1;34m(self, key, method, tolerance)\u001b[0m\n\u001b[0;32m   3360\u001b[0m             \u001b[1;32mtry\u001b[0m\u001b[1;33m:\u001b[0m\u001b[1;33m\u001b[0m\u001b[1;33m\u001b[0m\u001b[0m\n\u001b[1;32m-> 3361\u001b[1;33m                 \u001b[1;32mreturn\u001b[0m \u001b[0mself\u001b[0m\u001b[1;33m.\u001b[0m\u001b[0m_engine\u001b[0m\u001b[1;33m.\u001b[0m\u001b[0mget_loc\u001b[0m\u001b[1;33m(\u001b[0m\u001b[0mcasted_key\u001b[0m\u001b[1;33m)\u001b[0m\u001b[1;33m\u001b[0m\u001b[1;33m\u001b[0m\u001b[0m\n\u001b[0m\u001b[0;32m   3362\u001b[0m             \u001b[1;32mexcept\u001b[0m \u001b[0mKeyError\u001b[0m \u001b[1;32mas\u001b[0m \u001b[0merr\u001b[0m\u001b[1;33m:\u001b[0m\u001b[1;33m\u001b[0m\u001b[1;33m\u001b[0m\u001b[0m\n",
      "\u001b[1;32mc:\\Users\\briaa\\anaconda3\\lib\\site-packages\\pandas\\_libs\\index.pyx\u001b[0m in \u001b[0;36mpandas._libs.index.IndexEngine.get_loc\u001b[1;34m()\u001b[0m\n",
      "\u001b[1;32mc:\\Users\\briaa\\anaconda3\\lib\\site-packages\\pandas\\_libs\\index.pyx\u001b[0m in \u001b[0;36mpandas._libs.index.IndexEngine.get_loc\u001b[1;34m()\u001b[0m\n",
      "\u001b[1;32mpandas\\_libs\\hashtable_class_helper.pxi\u001b[0m in \u001b[0;36mpandas._libs.hashtable.PyObjectHashTable.get_item\u001b[1;34m()\u001b[0m\n",
      "\u001b[1;32mpandas\\_libs\\hashtable_class_helper.pxi\u001b[0m in \u001b[0;36mpandas._libs.hashtable.PyObjectHashTable.get_item\u001b[1;34m()\u001b[0m\n",
      "\u001b[1;31mKeyError\u001b[0m: 'tokens'",
      "\nThe above exception was the direct cause of the following exception:\n",
      "\u001b[1;31mKeyError\u001b[0m                                  Traceback (most recent call last)",
      "\u001b[1;32m~\\AppData\\Local\\Temp/ipykernel_4832/1992710595.py\u001b[0m in \u001b[0;36m<module>\u001b[1;34m\u001b[0m\n\u001b[0;32m      4\u001b[0m \u001b[1;33m\u001b[0m\u001b[0m\n\u001b[0;32m      5\u001b[0m \u001b[1;31m# Apply function to  get word count for top 5 rows\u001b[0m\u001b[1;33m\u001b[0m\u001b[1;33m\u001b[0m\u001b[0m\n\u001b[1;32m----> 6\u001b[1;33m \u001b[0mdf\u001b[0m\u001b[1;33m[\u001b[0m\u001b[1;34m'tokens'\u001b[0m\u001b[1;33m]\u001b[0m\u001b[1;33m.\u001b[0m\u001b[0mhead\u001b[0m\u001b[1;33m(\u001b[0m\u001b[1;33m)\u001b[0m\u001b[1;33m.\u001b[0m\u001b[0mapply\u001b[0m\u001b[1;33m(\u001b[0m\u001b[0mget_word_count\u001b[0m\u001b[1;33m)\u001b[0m\u001b[1;33m\u001b[0m\u001b[1;33m\u001b[0m\u001b[0m\n\u001b[0m",
      "\u001b[1;32mc:\\Users\\briaa\\anaconda3\\lib\\site-packages\\pandas\\core\\frame.py\u001b[0m in \u001b[0;36m__getitem__\u001b[1;34m(self, key)\u001b[0m\n\u001b[0;32m   3456\u001b[0m             \u001b[1;32mif\u001b[0m \u001b[0mself\u001b[0m\u001b[1;33m.\u001b[0m\u001b[0mcolumns\u001b[0m\u001b[1;33m.\u001b[0m\u001b[0mnlevels\u001b[0m \u001b[1;33m>\u001b[0m \u001b[1;36m1\u001b[0m\u001b[1;33m:\u001b[0m\u001b[1;33m\u001b[0m\u001b[1;33m\u001b[0m\u001b[0m\n\u001b[0;32m   3457\u001b[0m                 \u001b[1;32mreturn\u001b[0m \u001b[0mself\u001b[0m\u001b[1;33m.\u001b[0m\u001b[0m_getitem_multilevel\u001b[0m\u001b[1;33m(\u001b[0m\u001b[0mkey\u001b[0m\u001b[1;33m)\u001b[0m\u001b[1;33m\u001b[0m\u001b[1;33m\u001b[0m\u001b[0m\n\u001b[1;32m-> 3458\u001b[1;33m             \u001b[0mindexer\u001b[0m \u001b[1;33m=\u001b[0m \u001b[0mself\u001b[0m\u001b[1;33m.\u001b[0m\u001b[0mcolumns\u001b[0m\u001b[1;33m.\u001b[0m\u001b[0mget_loc\u001b[0m\u001b[1;33m(\u001b[0m\u001b[0mkey\u001b[0m\u001b[1;33m)\u001b[0m\u001b[1;33m\u001b[0m\u001b[1;33m\u001b[0m\u001b[0m\n\u001b[0m\u001b[0;32m   3459\u001b[0m             \u001b[1;32mif\u001b[0m \u001b[0mis_integer\u001b[0m\u001b[1;33m(\u001b[0m\u001b[0mindexer\u001b[0m\u001b[1;33m)\u001b[0m\u001b[1;33m:\u001b[0m\u001b[1;33m\u001b[0m\u001b[1;33m\u001b[0m\u001b[0m\n\u001b[0;32m   3460\u001b[0m                 \u001b[0mindexer\u001b[0m \u001b[1;33m=\u001b[0m \u001b[1;33m[\u001b[0m\u001b[0mindexer\u001b[0m\u001b[1;33m]\u001b[0m\u001b[1;33m\u001b[0m\u001b[1;33m\u001b[0m\u001b[0m\n",
      "\u001b[1;32mc:\\Users\\briaa\\anaconda3\\lib\\site-packages\\pandas\\core\\indexes\\base.py\u001b[0m in \u001b[0;36mget_loc\u001b[1;34m(self, key, method, tolerance)\u001b[0m\n\u001b[0;32m   3361\u001b[0m                 \u001b[1;32mreturn\u001b[0m \u001b[0mself\u001b[0m\u001b[1;33m.\u001b[0m\u001b[0m_engine\u001b[0m\u001b[1;33m.\u001b[0m\u001b[0mget_loc\u001b[0m\u001b[1;33m(\u001b[0m\u001b[0mcasted_key\u001b[0m\u001b[1;33m)\u001b[0m\u001b[1;33m\u001b[0m\u001b[1;33m\u001b[0m\u001b[0m\n\u001b[0;32m   3362\u001b[0m             \u001b[1;32mexcept\u001b[0m \u001b[0mKeyError\u001b[0m \u001b[1;32mas\u001b[0m \u001b[0merr\u001b[0m\u001b[1;33m:\u001b[0m\u001b[1;33m\u001b[0m\u001b[1;33m\u001b[0m\u001b[0m\n\u001b[1;32m-> 3363\u001b[1;33m                 \u001b[1;32mraise\u001b[0m \u001b[0mKeyError\u001b[0m\u001b[1;33m(\u001b[0m\u001b[0mkey\u001b[0m\u001b[1;33m)\u001b[0m \u001b[1;32mfrom\u001b[0m \u001b[0merr\u001b[0m\u001b[1;33m\u001b[0m\u001b[1;33m\u001b[0m\u001b[0m\n\u001b[0m\u001b[0;32m   3364\u001b[0m \u001b[1;33m\u001b[0m\u001b[0m\n\u001b[0;32m   3365\u001b[0m         \u001b[1;32mif\u001b[0m \u001b[0mis_scalar\u001b[0m\u001b[1;33m(\u001b[0m\u001b[0mkey\u001b[0m\u001b[1;33m)\u001b[0m \u001b[1;32mand\u001b[0m \u001b[0misna\u001b[0m\u001b[1;33m(\u001b[0m\u001b[0mkey\u001b[0m\u001b[1;33m)\u001b[0m \u001b[1;32mand\u001b[0m \u001b[1;32mnot\u001b[0m \u001b[0mself\u001b[0m\u001b[1;33m.\u001b[0m\u001b[0mhasnans\u001b[0m\u001b[1;33m:\u001b[0m\u001b[1;33m\u001b[0m\u001b[1;33m\u001b[0m\u001b[0m\n",
      "\u001b[1;31mKeyError\u001b[0m: 'tokens'"
     ]
    }
   ],
   "source": [
    "# Create word count function\n",
    "def get_word_count(tokens):\n",
    "    return len(tokens)\n",
    "\n",
    "# Apply function to  get word count for top 5 rows\n",
    "df['tokens'].head().apply(get_word_count)"
   ]
  },
  {
   "cell_type": "code",
   "execution_count": 53,
   "metadata": {},
   "outputs": [
    {
     "name": "stderr",
     "output_type": "stream",
     "text": [
      "C:\\Users\\briaa\\AppData\\Local\\Temp/ipykernel_4832/921233451.py:2: SettingWithCopyWarning: \n",
      "A value is trying to be set on a copy of a slice from a DataFrame.\n",
      "Try using .loc[row_indexer,col_indexer] = value instead\n",
      "\n",
      "See the caveats in the documentation: https://pandas.pydata.org/pandas-docs/stable/user_guide/indexing.html#returning-a-view-versus-a-copy\n",
      "  df['tokens'] = df['content_original'].apply(word_tokenize)\n"
     ]
    },
    {
     "data": {
      "text/html": [
       "<div>\n",
       "<style scoped>\n",
       "    .dataframe tbody tr th:only-of-type {\n",
       "        vertical-align: middle;\n",
       "    }\n",
       "\n",
       "    .dataframe tbody tr th {\n",
       "        vertical-align: top;\n",
       "    }\n",
       "\n",
       "    .dataframe thead th {\n",
       "        text-align: right;\n",
       "    }\n",
       "</style>\n",
       "<table border=\"1\" class=\"dataframe\">\n",
       "  <thead>\n",
       "    <tr style=\"text-align: right;\">\n",
       "      <th></th>\n",
       "      <th>bias</th>\n",
       "      <th>content_original</th>\n",
       "      <th>tokens</th>\n",
       "    </tr>\n",
       "  </thead>\n",
       "  <tbody>\n",
       "    <tr>\n",
       "      <th>0</th>\n",
       "      <td>0</td>\n",
       "      <td>besides his most recent trip to quetta mr raha...</td>\n",
       "      <td>[besides, his, most, recent, trip, to, quetta,...</td>\n",
       "    </tr>\n",
       "    <tr>\n",
       "      <th>1</th>\n",
       "      <td>0</td>\n",
       "      <td>is maine republican sen susan collins being br...</td>\n",
       "      <td>[is, maine, republican, sen, susan, collins, b...</td>\n",
       "    </tr>\n",
       "    <tr>\n",
       "      <th>2</th>\n",
       "      <td>0</td>\n",
       "      <td>poll prestigious colleges wont make you happie...</td>\n",
       "      <td>[poll, prestigious, colleges, wont, make, you,...</td>\n",
       "    </tr>\n",
       "    <tr>\n",
       "      <th>3</th>\n",
       "      <td>2</td>\n",
       "      <td>house speaker paul ryan at a private dinner ea...</td>\n",
       "      <td>[house, speaker, paul, ryan, at, a, private, d...</td>\n",
       "    </tr>\n",
       "    <tr>\n",
       "      <th>4</th>\n",
       "      <td>0</td>\n",
       "      <td>cnn president donald trump has reason to hope ...</td>\n",
       "      <td>[cnn, president, donald, trump, has, reason, t...</td>\n",
       "    </tr>\n",
       "  </tbody>\n",
       "</table>\n",
       "</div>"
      ],
      "text/plain": [
       "   bias                                   content_original  \\\n",
       "0     0  besides his most recent trip to quetta mr raha...   \n",
       "1     0  is maine republican sen susan collins being br...   \n",
       "2     0  poll prestigious colleges wont make you happie...   \n",
       "3     2  house speaker paul ryan at a private dinner ea...   \n",
       "4     0  cnn president donald trump has reason to hope ...   \n",
       "\n",
       "                                              tokens  \n",
       "0  [besides, his, most, recent, trip, to, quetta,...  \n",
       "1  [is, maine, republican, sen, susan, collins, b...  \n",
       "2  [poll, prestigious, colleges, wont, make, you,...  \n",
       "3  [house, speaker, paul, ryan, at, a, private, d...  \n",
       "4  [cnn, president, donald, trump, has, reason, t...  "
      ]
     },
     "execution_count": 53,
     "metadata": {},
     "output_type": "execute_result"
    }
   ],
   "source": [
    "# Tokenization\n",
    "df['tokens'] = df['content_original'].apply(word_tokenize)\n",
    "\n",
    "df.head()"
   ]
  },
  {
   "cell_type": "code",
   "execution_count": null,
   "metadata": {},
   "outputs": [
    {
     "data": {
      "text/plain": [
       "0     432\n",
       "1    1238\n",
       "2     702\n",
       "3     854\n",
       "4    1523\n",
       "Name: tokens, dtype: int64"
      ]
     },
     "execution_count": 50,
     "metadata": {},
     "output_type": "execute_result"
    }
   ],
   "source": [
    "\n",
    "# Apply function\n",
    "df['tokens'].head().apply(get_word_count)"
   ]
  },
  {
   "cell_type": "code",
   "execution_count": null,
   "metadata": {},
   "outputs": [
    {
     "name": "stderr",
     "output_type": "stream",
     "text": [
      "[nltk_data] Downloading package stopwords to\n",
      "[nltk_data]     C:\\Users\\briaa\\AppData\\Roaming\\nltk_data...\n",
      "[nltk_data]   Package stopwords is already up-to-date!\n"
     ]
    },
    {
     "data": {
      "text/plain": [
       "True"
      ]
     },
     "execution_count": 13,
     "metadata": {},
     "output_type": "execute_result"
    }
   ],
   "source": [
    "import re\n",
    "import nltk\n",
    "nltk.download('stopwords')"
   ]
  },
  {
   "cell_type": "code",
   "execution_count": 54,
   "metadata": {},
   "outputs": [
    {
     "name": "stderr",
     "output_type": "stream",
     "text": [
      "C:\\Users\\briaa\\AppData\\Local\\Temp/ipykernel_4832/13543262.py:14: SettingWithCopyWarning: \n",
      "A value is trying to be set on a copy of a slice from a DataFrame.\n",
      "Try using .loc[row_indexer,col_indexer] = value instead\n",
      "\n",
      "See the caveats in the documentation: https://pandas.pydata.org/pandas-docs/stable/user_guide/indexing.html#returning-a-view-versus-a-copy\n",
      "  df['tokens'] = df['tokens'].apply(remove_stop_words)\n"
     ]
    }
   ],
   "source": [
    "# Download NLTK stopwords if not already downloaded\n",
    "import nltk\n",
    "from nltk.corpus import stopwords\n",
    "\n",
    "# Function to remove stop words from text\n",
    "def remove_stop_words(tokens):\n",
    "    # Initialize stop words\n",
    "    stop_words = set(stopwords.words('english'))\n",
    "    # Remove stop words\n",
    "    filtered_tokens = [token for token in tokens if token.lower() not in stop_words]\n",
    "    return filtered_tokens\n",
    "\n",
    "# Apply the function to the 'content_original' column\n",
    "df['tokens'] = df['tokens'].apply(remove_stop_words)"
   ]
  },
  {
   "cell_type": "code",
   "execution_count": null,
   "metadata": {},
   "outputs": [
    {
     "data": {
      "text/plain": [
       "0    247\n",
       "1    700\n",
       "2    410\n",
       "3    466\n",
       "4    897\n",
       "Name: tokens, dtype: int64"
      ]
     },
     "execution_count": 15,
     "metadata": {},
     "output_type": "execute_result"
    }
   ],
   "source": [
    "# Check word count\n",
    "df['tokens'].head().apply(get_word_count)"
   ]
  },
  {
   "cell_type": "code",
   "execution_count": null,
   "metadata": {},
   "outputs": [
    {
     "name": "stderr",
     "output_type": "stream",
     "text": [
      "C:\\Users\\briaa\\AppData\\Local\\Temp/ipykernel_4832/291068975.py:3: SettingWithCopyWarning: \n",
      "A value is trying to be set on a copy of a slice from a DataFrame.\n",
      "Try using .loc[row_indexer,col_indexer] = value instead\n",
      "\n",
      "See the caveats in the documentation: https://pandas.pydata.org/pandas-docs/stable/user_guide/indexing.html#returning-a-view-versus-a-copy\n",
      "  df['tokens'] = df['tokens'].apply(lambda x: [lemmatizer.lemmatize(word) for word in x])\n"
     ]
    }
   ],
   "source": [
    "# Perform lemmatization\n",
    "lemmatizer = WordNetLemmatizer()\n",
    "df['tokens'] = df['tokens'].apply(lambda x: [lemmatizer.lemmatize(word) for word in x])"
   ]
  },
  {
   "cell_type": "code",
   "execution_count": null,
   "metadata": {},
   "outputs": [
    {
     "data": {
      "text/plain": [
       "0    247\n",
       "1    700\n",
       "2    410\n",
       "3    466\n",
       "4    897\n",
       "Name: tokens, dtype: int64"
      ]
     },
     "execution_count": 17,
     "metadata": {},
     "output_type": "execute_result"
    }
   ],
   "source": [
    "# Check word count\n",
    "df['tokens'].head().apply(get_word_count)"
   ]
  },
  {
   "cell_type": "code",
   "execution_count": null,
   "metadata": {},
   "outputs": [
    {
     "data": {
      "text/html": [
       "<div>\n",
       "<style scoped>\n",
       "    .dataframe tbody tr th:only-of-type {\n",
       "        vertical-align: middle;\n",
       "    }\n",
       "\n",
       "    .dataframe tbody tr th {\n",
       "        vertical-align: top;\n",
       "    }\n",
       "\n",
       "    .dataframe thead th {\n",
       "        text-align: right;\n",
       "    }\n",
       "</style>\n",
       "<table border=\"1\" class=\"dataframe\">\n",
       "  <thead>\n",
       "    <tr style=\"text-align: right;\">\n",
       "      <th></th>\n",
       "      <th>bias</th>\n",
       "      <th>content_original</th>\n",
       "      <th>tokens</th>\n",
       "    </tr>\n",
       "  </thead>\n",
       "  <tbody>\n",
       "    <tr>\n",
       "      <th>0</th>\n",
       "      <td>0</td>\n",
       "      <td>besides his most recent trip to quetta mr raha...</td>\n",
       "      <td>[besides, recent, trip, quetta, mr, rahami, vi...</td>\n",
       "    </tr>\n",
       "    <tr>\n",
       "      <th>1</th>\n",
       "      <td>0</td>\n",
       "      <td>is maine republican sen susan collins being br...</td>\n",
       "      <td>[maine, republican, sen, susan, collins, bribe...</td>\n",
       "    </tr>\n",
       "    <tr>\n",
       "      <th>2</th>\n",
       "      <td>0</td>\n",
       "      <td>poll prestigious colleges wont make you happie...</td>\n",
       "      <td>[poll, prestigious, colleges, wont, make, happ...</td>\n",
       "    </tr>\n",
       "    <tr>\n",
       "      <th>3</th>\n",
       "      <td>2</td>\n",
       "      <td>house speaker paul ryan at a private dinner ea...</td>\n",
       "      <td>[house, speaker, paul, ryan, private, dinner, ...</td>\n",
       "    </tr>\n",
       "    <tr>\n",
       "      <th>4</th>\n",
       "      <td>0</td>\n",
       "      <td>cnn president donald trump has reason to hope ...</td>\n",
       "      <td>[cnn, president, donald, trump, reason, hope, ...</td>\n",
       "    </tr>\n",
       "  </tbody>\n",
       "</table>\n",
       "</div>"
      ],
      "text/plain": [
       "   bias                                   content_original  \\\n",
       "0     0  besides his most recent trip to quetta mr raha...   \n",
       "1     0  is maine republican sen susan collins being br...   \n",
       "2     0  poll prestigious colleges wont make you happie...   \n",
       "3     2  house speaker paul ryan at a private dinner ea...   \n",
       "4     0  cnn president donald trump has reason to hope ...   \n",
       "\n",
       "                                              tokens  \n",
       "0  [besides, recent, trip, quetta, mr, rahami, vi...  \n",
       "1  [maine, republican, sen, susan, collins, bribe...  \n",
       "2  [poll, prestigious, colleges, wont, make, happ...  \n",
       "3  [house, speaker, paul, ryan, private, dinner, ...  \n",
       "4  [cnn, president, donald, trump, reason, hope, ...  "
      ]
     },
     "execution_count": 15,
     "metadata": {},
     "output_type": "execute_result"
    }
   ],
   "source": [
    "df.head()"
   ]
  },
  {
   "cell_type": "code",
   "execution_count": null,
   "metadata": {},
   "outputs": [
    {
     "data": {
      "text/plain": [
       "37554"
      ]
     },
     "execution_count": 16,
     "metadata": {},
     "output_type": "execute_result"
    }
   ],
   "source": [
    "df.shape[0]"
   ]
  },
  {
   "cell_type": "markdown",
   "metadata": {},
   "source": [
    "# BOW DNN Model\n"
   ]
  },
  {
   "cell_type": "code",
   "execution_count": 55,
   "metadata": {},
   "outputs": [],
   "source": [
    "# import necessary libraries\n",
    "import pandas as pd\n",
    "import numpy as np\n",
    "from sklearn.model_selection import train_test_split, RandomizedSearchCV\n",
    "from sklearn.preprocessing import LabelEncoder\n",
    "from tensorflow.keras.models import Sequential\n",
    "from tensorflow.keras.layers import Dense, Embedding, LSTM, Bidirectional, GlobalMaxPooling1D\n",
    "from tensorflow.keras.callbacks import EarlyStopping\n",
    "from tensorflow.keras.preprocessing.sequence import pad_sequences "
   ]
  },
  {
   "cell_type": "code",
   "execution_count": 56,
   "metadata": {},
   "outputs": [
    {
     "name": "stderr",
     "output_type": "stream",
     "text": [
      "C:\\Users\\briaa\\AppData\\Local\\Temp/ipykernel_4832/2384337605.py:2: SettingWithCopyWarning: \n",
      "A value is trying to be set on a copy of a slice from a DataFrame.\n",
      "Try using .loc[row_indexer,col_indexer] = value instead\n",
      "\n",
      "See the caveats in the documentation: https://pandas.pydata.org/pandas-docs/stable/user_guide/indexing.html#returning-a-view-versus-a-copy\n",
      "  df['text'] = df['tokens'].apply(lambda x: ' '.join(x))\n"
     ]
    }
   ],
   "source": [
    "# Join the tokenized words into a single string for each document\n",
    "df['text'] = df['tokens'].apply(lambda x: ' '.join(x))  "
   ]
  },
  {
   "cell_type": "code",
   "execution_count": 57,
   "metadata": {},
   "outputs": [],
   "source": [
    "# Prepare the data for bag-of-words\n",
    "vectorizer = CountVectorizer()\n",
    "X = vectorizer.fit_transform(df['text'])  # Assuming 'tokens' column contains tokenized text\n",
    "y = df['bias']"
   ]
  },
  {
   "cell_type": "code",
   "execution_count": 58,
   "metadata": {},
   "outputs": [],
   "source": [
    "# Split the dataset into training, validation, and testing sets\n",
    "X_train_val, X_test, y_train_val, y_test = train_test_split(X, y, test_size=0.2, random_state=42)\n",
    "X_train, X_val, y_train, y_val = train_test_split(X_train_val, y_train_val, test_size=0.1, random_state=42)"
   ]
  },
  {
   "cell_type": "code",
   "execution_count": 59,
   "metadata": {},
   "outputs": [],
   "source": [
    "# Encode target variable\n",
    "label_encoder = LabelEncoder()\n",
    "y_train_encoded = label_encoder.fit_transform(y_train)\n",
    "y_val_encoded = label_encoder.transform(y_val)\n",
    "y_test_encoded = label_encoder.transform(y_test)"
   ]
  },
  {
   "cell_type": "code",
   "execution_count": 60,
   "metadata": {},
   "outputs": [],
   "source": [
    "# Import necessary libraries\n",
    "import tensorflow as tf"
   ]
  },
  {
   "cell_type": "code",
   "execution_count": 61,
   "metadata": {},
   "outputs": [],
   "source": [
    "# Convert sparse matrices to COO format\n",
    "X_train_coo = X_train.tocoo()\n",
    "X_val_coo = X_val.tocoo()\n",
    "X_test_coo = X_test.tocoo()\n",
    "\n",
    "# Sort the indices\n",
    "sort_indices_train = np.lexsort((X_train_coo.row, X_train_coo.col))\n",
    "sort_indices_val = np.lexsort((X_val_coo.row, X_val_coo.col))\n",
    "sort_indices_test = np.lexsort((X_test_coo.row, X_test_coo.col))\n",
    "\n",
    "X_train_indices_sorted = np.column_stack((X_train_coo.row[sort_indices_train], X_train_coo.col[sort_indices_train]))\n",
    "X_val_indices_sorted = np.column_stack((X_val_coo.row[sort_indices_val], X_val_coo.col[sort_indices_val]))\n",
    "X_test_indices_sorted = np.column_stack((X_test_coo.row[sort_indices_test], X_test_coo.col[sort_indices_test]))\n",
    "\n",
    "# Convert COO format to SparseTensor\n",
    "X_train_sparse = tf.sparse.SparseTensor(\n",
    "    indices=X_train_indices_sorted,\n",
    "    values=X_train_coo.data[sort_indices_train],\n",
    "    dense_shape=X_train_coo.shape\n",
    ")\n",
    "\n",
    "X_val_sparse = tf.sparse.SparseTensor(\n",
    "    indices=X_val_indices_sorted,\n",
    "    values=X_val_coo.data[sort_indices_val],\n",
    "    dense_shape=X_val_coo.shape\n",
    ")\n",
    "\n",
    "X_test_sparse = tf.sparse.SparseTensor(\n",
    "    indices=X_test_indices_sorted,\n",
    "    values=X_test_coo.data[sort_indices_test],\n",
    "    dense_shape=X_test_coo.shape\n",
    ")"
   ]
  },
  {
   "cell_type": "code",
   "execution_count": 62,
   "metadata": {},
   "outputs": [],
   "source": [
    "# Reorder the SparseTensor objects\n",
    "X_train_reordered = tf.sparse.reorder(X_train_sparse)\n",
    "X_val_reordered = tf.sparse.reorder(X_val_sparse)\n",
    "X_test_reordered = tf.sparse.reorder(X_test_sparse)\n"
   ]
  },
  {
   "cell_type": "code",
   "execution_count": 66,
   "metadata": {},
   "outputs": [
    {
     "name": "stdout",
     "output_type": "stream",
     "text": [
      "Epoch 1/10\n",
      "1690/1690 [==============================] - 1100s 650ms/step - loss: 0.7917 - accuracy: 0.6549 - val_loss: 0.5409 - val_accuracy: 0.7967\n",
      "Epoch 2/10\n",
      "1690/1690 [==============================] - 1064s 630ms/step - loss: 0.4795 - accuracy: 0.8211 - val_loss: 0.5291 - val_accuracy: 0.7937\n",
      "Epoch 3/10\n",
      "1690/1690 [==============================] - 876s 518ms/step - loss: 0.3235 - accuracy: 0.8845 - val_loss: 0.5025 - val_accuracy: 0.8020\n",
      "Epoch 4/10\n",
      "1690/1690 [==============================] - 984s 582ms/step - loss: 0.2395 - accuracy: 0.9196 - val_loss: 0.5213 - val_accuracy: 0.8063\n",
      "Epoch 5/10\n",
      "1690/1690 [==============================] - 867s 513ms/step - loss: 0.1816 - accuracy: 0.9426 - val_loss: 0.5553 - val_accuracy: 0.8113\n",
      "Epoch 6/10\n",
      "1690/1690 [==============================] - 892s 528ms/step - loss: 0.1408 - accuracy: 0.9540 - val_loss: 0.6320 - val_accuracy: 0.8063\n",
      "Epoch 7/10\n",
      "1690/1690 [==============================] - 798s 472ms/step - loss: 0.1194 - accuracy: 0.9627 - val_loss: 0.6251 - val_accuracy: 0.8027\n",
      "Epoch 8/10\n",
      "1690/1690 [==============================] - 736s 435ms/step - loss: 0.1085 - accuracy: 0.9668 - val_loss: 0.6437 - val_accuracy: 0.8120\n",
      "Epoch 9/10\n",
      "1690/1690 [==============================] - 709s 420ms/step - loss: 0.0918 - accuracy: 0.9717 - val_loss: 0.6619 - val_accuracy: 0.8130\n",
      "Epoch 10/10\n",
      "1690/1690 [==============================] - 714s 423ms/step - loss: 0.0779 - accuracy: 0.9753 - val_loss: 0.6794 - val_accuracy: 0.8190\n"
     ]
    }
   ],
   "source": [
    "# Import necessary libraries\n",
    "from tensorflow.keras.layers import Dropout\n",
    "\n",
    "# Define the DNN model architecture with two hidden layers\n",
    "model = Sequential([\n",
    "    Dense(256, activation='relu', input_shape=(X_train_reordered.shape[1],)),\n",
    "    Dropout(0.5),  # Add dropout after the first hidden layer\n",
    "    Dense(128, activation='relu'),\n",
    "    Dropout(0.5),  # Add dropout after the second hidden layer\n",
    "    Dense(64, activation='relu'),\n",
    "    Dense(3, activation='softmax')  # Output layer with 3 neurons for 3 classes\n",
    "])\n",
    "\n",
    "# Compile the model\n",
    "model.compile(optimizer='adam', loss='sparse_categorical_crossentropy', metrics=['accuracy'])\n",
    "\n",
    "# Import necessary libraries\n",
    "from tensorflow.keras.callbacks import ModelCheckpoint\n",
    "\n",
    "\n",
    "\n",
    "# Train the model with validation data\n",
    "history = model.fit(X_train_reordered, y_train_encoded, epochs=10,batch_size=16, validation_data=(X_val_reordered, y_val_encoded), verbose=1)\n"
   ]
  },
  {
   "cell_type": "code",
   "execution_count": 67,
   "metadata": {},
   "outputs": [
    {
     "name": "stdout",
     "output_type": "stream",
     "text": [
      "235/235 - 3s - loss: 0.7470 - accuracy: 0.8137 - 3s/epoch - 12ms/step\n",
      "Test Loss: 0.746978223323822, Test Accuracy: 0.8137398362159729\n"
     ]
    }
   ],
   "source": [
    "# Evaluate the model on the test data\n",
    "test_loss, test_accuracy = model.evaluate(X_test_reordered, y_test_encoded, verbose=2)\n",
    "\n",
    "# Print the test loss and accuracy\n",
    "print(f\"Test Loss: {test_loss}, Test Accuracy: {test_accuracy}\")"
   ]
  },
  {
   "cell_type": "code",
   "execution_count": 68,
   "metadata": {},
   "outputs": [],
   "source": [
    "import matplotlib.pyplot as plt\n",
    "\n",
    "def plot_learning(history):\n",
    "    tgts = ['loss', 'accuracy']\n",
    "    vtgts = ['val_loss', 'val_accuracy']\n",
    "    labels = ['Training', 'Validation']\n",
    "\n",
    "    plt.figure(figsize=(12, 5))\n",
    "\n",
    "    for i, (tgt, val_tgt) in enumerate(zip(tgts, vtgts)):\n",
    "        plt.subplot(1, 2, i+1)\n",
    "        plt.plot(history.history[tgt], label=f'{labels[0]} {tgt.capitalize()}', color='blue', linestyle='-')\n",
    "        plt.plot(history.history[val_tgt], label=f'{labels[1]} {tgt.capitalize()}', color='orange', linestyle='--')\n",
    "        plt.xlabel('Epoch', fontsize=12)\n",
    "        plt.ylabel(tgt.capitalize(), fontsize=12)\n",
    "        plt.legend(fontsize=10)\n",
    "        plt.title(f\"{tgt.capitalize()} Comparison\", fontsize=14)\n",
    "        plt.grid(True, linestyle='--', alpha=0.7)\n",
    "\n",
    "    plt.tight_layout()\n",
    "    plt.show()\n"
   ]
  },
  {
   "cell_type": "code",
   "execution_count": 69,
   "metadata": {},
   "outputs": [
    {
     "data": {
      "image/png": "[encoded data removed]",
      "text/plain": [
       "<Figure size 864x360 with 2 Axes>"
      ]
     },
     "metadata": {
      "needs_background": "light"
     },
     "output_type": "display_data"
    }
   ],
   "source": [
    "plot_learning(history)"
   ]
  },
  {
   "cell_type": "markdown",
   "metadata": {},
   "source": [
    "# Hyperparameter Tuning"
   ]
  },
  {
   "cell_type": "code",
   "execution_count": null,
   "metadata": {},
   "outputs": [],
   "source": [
    "# Import necessary libraries\n",
    "from sklearn.model_selection import RandomizedSearchCV\n",
    "from sklearn.metrics import accuracy_score"
   ]
  },
  {
   "cell_type": "code",
   "execution_count": null,
   "metadata": {},
   "outputs": [],
   "source": [
    "# Define the DNN model architecture\n",
    "def create_model(dropout_rate_1=0.5, dropout_rate_2=0.5, neurons_1=256, neurons_2=128):\n",
    "    model = Sequential([\n",
    "        Dense(neurons_1, activation='relu', input_shape=(X_train_reordered.shape[1],)),\n",
    "        Dropout(dropout_rate_1),\n",
    "        Dense(neurons_2, activation='relu'),\n",
    "        Dropout(dropout_rate_2),\n",
    "        Dense(64, activation='relu'),\n",
    "        Dense(3, activation='softmax')\n",
    "    ])\n",
    "    model.compile(optimizer='adam', loss='sparse_categorical_crossentropy', metrics=['accuracy'])\n",
    "    return model\n"
   ]
  },
  {
   "cell_type": "code",
   "execution_count": null,
   "metadata": {},
   "outputs": [],
   "source": [
    "# Define hyperparameters to search\n",
    "param_dist = {\n",
    "    'dropout_rate_1': [0.3, 0.4, 0.5],\n",
    "    'dropout_rate_2': [0.3, 0.4, 0.5],\n",
    "    'neurons_1': [128, 256, 512],\n",
    "    'neurons_2': [64, 128, 256]\n",
    "}\n",
    "\n",
    "best_accuracy = 0\n",
    "best_params = {}"
   ]
  },
  {
   "cell_type": "code",
   "execution_count": null,
   "metadata": {},
   "outputs": [],
   "source": [
    "# Perform random search\n",
    "for _ in range(3):  # 10 iterations for random search\n",
    "    # Randomly select hyperparameters\n",
    "    params = {param: np.random.choice(values) for param, values in param_dist.items()}\n",
    "    \n",
    "    # Create and compile the model\n",
    "    model = create_model(**params)\n",
    "    \n",
    "    # Train the model\n",
    "    history = model.fit(X_train_reordered, y_train_encoded, epochs=10, batch_size=16, verbose=0)\n",
    "    \n",
    "    # Evaluate the model\n",
    "    y_pred = np.argmax(model.predict(X_val_reordered), axis=1)\n",
    "    accuracy = accuracy_score(y_val_encoded, y_pred)\n",
    "    \n",
    "    # Update best parameters if better accuracy is achieved\n",
    "    if accuracy > best_accuracy:\n",
    "        best_accuracy = accuracy\n",
    "        best_params = params\n",
    "\n",
    "# Get the best parameters and the corresponding accuracy\n",
    "print(\"Best Parameters:\", best_params)\n",
    "print(\"Best Accuracy:\", best_accuracy)"
   ]
  }
 ],
 "metadata": {
  "kernelspec": {
   "display_name": "base",
   "language": "python",
   "name": "python3"
  },
  "language_info": {
   "codemirror_mode": {
    "name": "ipython",
    "version": 3
   },
   "file_extension": ".py",
   "mimetype": "text/x-python",
   "name": "python",
   "nbconvert_exporter": "python",
   "pygments_lexer": "ipython3",
   "version": "3.9.7"
  }
 },
 "nbformat": 4,
 "nbformat_minor": 2
}
